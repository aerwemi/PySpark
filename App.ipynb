{
 "cells": [
  {
   "cell_type": "code",
   "execution_count": 3,
   "metadata": {
    "collapsed": true
   },
   "outputs": [],
   "source": [
    "### Start a Spark Session ###\n",
    "from pyspark.sql import SparkSession"
   ]
  },
  {
   "cell_type": "code",
   "execution_count": 4,
   "metadata": {},
   "outputs": [
    {
     "data": {
      "text/html": [
       "\n",
       "            <div>\n",
       "                <p><b>SparkSession - in-memory</b></p>\n",
       "                \n",
       "        <div>\n",
       "            <p><b>SparkContext</b></p>\n",
       "\n",
       "            <p><a href=\"http://LAPTOP-5IVPR3RS:4044\">Spark UI</a></p>\n",
       "\n",
       "            <dl>\n",
       "              <dt>Version</dt>\n",
       "                <dd><code>v2.3.0</code></dd>\n",
       "              <dt>Master</dt>\n",
       "                <dd><code>local[*]</code></dd>\n",
       "              <dt>AppName</dt>\n",
       "                <dd><code>city</code></dd>\n",
       "            </dl>\n",
       "        </div>\n",
       "        \n",
       "            </div>\n",
       "        "
      ],
      "text/plain": [
       "<pyspark.sql.session.SparkSession at 0x19487cce860>"
      ]
     },
     "execution_count": 4,
     "metadata": {},
     "output_type": "execute_result"
    }
   ],
   "source": [
    "### Create a Spark Session ### \n",
    "spark = SparkSession.builder.appName(\"city\").getOrCreate()\n",
    "spark"
   ]
  },
  {
   "cell_type": "code",
   "execution_count": 24,
   "metadata": {},
   "outputs": [],
   "source": [
    "### Load the city.csv file, have Spark infer the data types\n",
    "cityDf = spark.read.csv('city_mrg.csv',header=True,inferSchema=True)"
   ]
  },
  {
   "cell_type": "code",
   "execution_count": 25,
   "metadata": {},
   "outputs": [
    {
     "data": {
      "text/plain": [
       "['country',\n",
       " 'id',\n",
       " 'lat',\n",
       " 'lng',\n",
       " 'name',\n",
       " 'clouds',\n",
       " 'date',\n",
       " 'humidity',\n",
       " 'pressure',\n",
       " 'temp',\n",
       " 'temp_max',\n",
       " 'temp_min',\n",
       " 'wind_deg',\n",
       " 'wind_speed']"
      ]
     },
     "execution_count": 25,
     "metadata": {},
     "output_type": "execute_result"
    }
   ],
   "source": [
    "# list of cols\n",
    "cityDf.columns"
   ]
  },
  {
   "cell_type": "code",
   "execution_count": 26,
   "metadata": {},
   "outputs": [
    {
     "data": {
      "text/plain": [
       "[Row(country='RU', id=2017370, lat=60.0, lng=100.0, name='Russian Federation', clouds=80, date='11/19/2017 3:00', humidity=84, pressure=991.81, temp=-16.43, temp_max=-16.43, temp_min=-16.43, wind_deg=144.001, wind_speed=2.42),\n",
       " Row(country='IN', id=1257986, lat=34.049999, lng=77.416664, name='Rumbak', clouds=36, date='11/19/2017 3:00', humidity=71, pressure=605.31, temp=-18.98, temp_max=-18.98, temp_min=-18.98, wind_deg=176.501, wind_speed=0.37)]"
      ]
     },
     "execution_count": 26,
     "metadata": {},
     "output_type": "execute_result"
    }
   ],
   "source": [
    "cityDf.head(2)"
   ]
  },
  {
   "cell_type": "code",
   "execution_count": 27,
   "metadata": {},
   "outputs": [],
   "source": [
    "# run selection\n",
    "cityDfSelect=cityDf.select(['temp_max','temp_min','wind_deg','wind_speed'])"
   ]
  },
  {
   "cell_type": "code",
   "execution_count": 28,
   "metadata": {},
   "outputs": [
    {
     "data": {
      "text/plain": [
       "pyspark.sql.dataframe.DataFrame"
      ]
     },
     "execution_count": 28,
     "metadata": {},
     "output_type": "execute_result"
    }
   ],
   "source": [
    "type(cityDfSelect)"
   ]
  },
  {
   "cell_type": "code",
   "execution_count": 29,
   "metadata": {},
   "outputs": [
    {
     "name": "stdout",
     "output_type": "stream",
     "text": [
      "+-------+------------------+------------------+------------------+------------------+\n",
      "|summary|          temp_max|          temp_min|          wind_deg|        wind_speed|\n",
      "+-------+------------------+------------------+------------------+------------------+\n",
      "|  count|              2999|              2999|              2999|              2999|\n",
      "|   mean|  9.22234078026009| 8.598646215405118|177.99869712625923| 3.108312770923676|\n",
      "| stddev|13.077759012018257|13.187160595477907|106.87473659471442|2.3581797278040635|\n",
      "|    min|            -41.43|            -41.43|        0.00109863|              0.02|\n",
      "|    max|             45.88|             38.82|           359.501|             19.32|\n",
      "+-------+------------------+------------------+------------------+------------------+\n",
      "\n"
     ]
    }
   ],
   "source": [
    "cityDfSelect.describe().show()"
   ]
  },
  {
   "cell_type": "code",
   "execution_count": 30,
   "metadata": {},
   "outputs": [
    {
     "name": "stdout",
     "output_type": "stream",
     "text": [
      "root\n",
      " |-- country: string (nullable = true)\n",
      " |-- id: integer (nullable = true)\n",
      " |-- lat: double (nullable = true)\n",
      " |-- lng: double (nullable = true)\n",
      " |-- name: string (nullable = true)\n",
      " |-- clouds: integer (nullable = true)\n",
      " |-- date: string (nullable = true)\n",
      " |-- humidity: integer (nullable = true)\n",
      " |-- pressure: double (nullable = true)\n",
      " |-- temp: double (nullable = true)\n",
      " |-- temp_max: double (nullable = true)\n",
      " |-- temp_min: double (nullable = true)\n",
      " |-- wind_deg: double (nullable = true)\n",
      " |-- wind_speed: double (nullable = true)\n",
      "\n"
     ]
    }
   ],
   "source": [
    "# print sc\n",
    "cityDf.printSchema()"
   ]
  },
  {
   "cell_type": "code",
   "execution_count": 31,
   "metadata": {},
   "outputs": [
    {
     "name": "stdout",
     "output_type": "stream",
     "text": [
      "+--------+\n",
      "|temp_min|\n",
      "+--------+\n",
      "|  -16.43|\n",
      "|  -18.98|\n",
      "|    19.9|\n",
      "|   19.82|\n",
      "|  -18.11|\n",
      "|   -0.63|\n",
      "|    17.2|\n",
      "|   21.47|\n",
      "|   20.22|\n",
      "|   21.62|\n",
      "|    0.82|\n",
      "|   18.47|\n",
      "|   28.95|\n",
      "|   -5.48|\n",
      "|    2.42|\n",
      "|   28.15|\n",
      "|   23.17|\n",
      "|   12.65|\n",
      "|   19.07|\n",
      "|   19.95|\n",
      "+--------+\n",
      "only showing top 20 rows\n",
      "\n"
     ]
    }
   ],
   "source": [
    "# show one col\n",
    "cityDf.select('temp_min').show()"
   ]
  },
  {
   "cell_type": "code",
   "execution_count": 32,
   "metadata": {},
   "outputs": [],
   "source": [
    "# Create a new col\n",
    "cityDf = cityDf.withColumn('temp_span', cityDf['temp_max'] - cityDf['temp_min'])"
   ]
  },
  {
   "cell_type": "code",
   "execution_count": 38,
   "metadata": {},
   "outputs": [
    {
     "name": "stdout",
     "output_type": "stream",
     "text": [
      "+-------+------------------+\n",
      "|summary|         temp_span|\n",
      "+-------+------------------+\n",
      "|  count|              2999|\n",
      "|   mean|0.6236945648549501|\n",
      "| stddev|1.2836900436473155|\n",
      "|    min|               0.0|\n",
      "|    max|12.770000000000001|\n",
      "+-------+------------------+\n",
      "\n"
     ]
    }
   ],
   "source": [
    "# select the new col and use it stats \n",
    "cityDf.select('temp_span').describe().show()"
   ]
  },
  {
   "cell_type": "code",
   "execution_count": 45,
   "metadata": {},
   "outputs": [
    {
     "name": "stdout",
     "output_type": "stream",
     "text": [
      "root\n",
      " |-- country: string (nullable = true)\n",
      " |-- id: integer (nullable = true)\n",
      " |-- lat: double (nullable = true)\n",
      " |-- lng: double (nullable = true)\n",
      " |-- name: string (nullable = true)\n",
      " |-- clouds: integer (nullable = true)\n",
      " |-- date: string (nullable = true)\n",
      " |-- humidity: integer (nullable = true)\n",
      " |-- pressure: double (nullable = true)\n",
      " |-- temp: double (nullable = true)\n",
      " |-- temp_max: double (nullable = true)\n",
      " |-- temp_min: double (nullable = true)\n",
      " |-- wind_deg: double (nullable = true)\n",
      " |-- wind_speed: double (nullable = true)\n",
      " |-- temp_span: double (nullable = true)\n",
      "\n"
     ]
    }
   ],
   "source": [
    "cityDf.printSchema()"
   ]
  },
  {
   "cell_type": "code",
   "execution_count": 58,
   "metadata": {},
   "outputs": [
    {
     "data": {
      "text/plain": [
       "[Row(country='AE', id=290557, lat=24.0, lng=54.0, name='United Arab Emirates', clouds=0, date='11/19/2017 3:00', humidity=79, pressure=1028.45, temp=19.08, temp_max=19.08, temp_min=17.8, wind_deg=77.5011, wind_speed=1.52, temp_span=1.2799999999999976),\n",
       " Row(country='AF', id=1122189, lat=33.97509, lng=63.72868, name='Tulak', clouds=0, date='11/19/2017 3:00', humidity=55, pressure=786.81, temp=-11.53, temp_max=-11.53, temp_min=-11.53, wind_deg=106.501, wind_speed=1.97, temp_span=0.0),\n",
       " Row(country='AF', id=1125890, lat=36.979839, lng=70.739281, name='Shahran', clouds=0, date='11/19/2017 3:00', humidity=67, pressure=758.68, temp=-9.05, temp_max=-9.05, temp_min=-9.06, wind_deg=79.5011, wind_speed=1.67, temp_span=0.009999999999999787)]"
      ]
     },
     "execution_count": 58,
     "metadata": {},
     "output_type": "execute_result"
    }
   ],
   "source": [
    "# Order a dataframe by ascending values\n",
    "cityDf.orderBy(cityDf[\"country\"].asc()).head(2)"
   ]
  },
  {
   "cell_type": "code",
   "execution_count": 60,
   "metadata": {},
   "outputs": [
    {
     "data": {
      "text/plain": [
       "[Row(country='ZW', id=878675, lat=-19.0, lng=29.0, name='Republic of Zimbabwe', clouds=76, date='11/19/2017 3:00', humidity=96, pressure=895.18, temp=15.7, temp_max=15.7, temp_min=15.7, wind_deg=79.0011, wind_speed=4.57, temp_span=0.0),\n",
       " Row(country='ZW', id=894366, lat=-22.116671, lng=30.066669, name='Chamnanga', clouds=0, date='11/19/2017 3:00', humidity=97, pressure=967.41, temp=16.65, temp_max=16.65, temp_min=16.65, wind_deg=73.0011, wind_speed=2.42, temp_span=0.0)]"
      ]
     },
     "execution_count": 60,
     "metadata": {},
     "output_type": "execute_result"
    }
   ],
   "source": [
    "# Order a dataframe by ascending values\n",
    "cityDf.orderBy(cityDf[\"country\"].desc()).head(2)"
   ]
  },
  {
   "cell_type": "code",
   "execution_count": 66,
   "metadata": {},
   "outputs": [
    {
     "name": "stdout",
     "output_type": "stream",
     "text": [
      "+-------+-------+----------+----------+------------------+------+---------------+--------+--------+-----+--------+--------+--------+----------+-----------------+\n",
      "|country|     id|       lat|       lng|              name|clouds|           date|humidity|pressure| temp|temp_max|temp_min|wind_deg|wind_speed|        temp_span|\n",
      "+-------+-------+----------+----------+------------------+------+---------------+--------+--------+-----+--------+--------+--------+----------+-----------------+\n",
      "|     AU|2064513|     -20.0|     134.0|Northern Territory|     0|11/19/2017 3:00|      25|  983.05|45.88|   45.88|   38.82| 338.501|      2.37|7.060000000000002|\n",
      "|     AU|2076017|-16.066669|136.283325|        Borroloola|     0|11/19/2017 3:00|      39| 1015.48|37.62|   37.62|   37.62| 25.0011|      2.27|              0.0|\n",
      "|     AU|7839634|-21.039709| 116.85743|         Roebourne|     0|11/19/2017 3:00|      19| 1008.42|36.27|   36.27|   36.27| 23.5011|      1.92|              0.0|\n",
      "|     AU|2066808| -14.93333|133.116669|         Mataranka|     0|11/19/2017 3:00|      46| 1002.75|36.45|   36.45|   36.45| 40.0011|      2.07|              0.0|\n",
      "|     AU|2175959|-16.933331|145.416672|          Biboohra|     0|11/19/2017 3:00|      45|  962.22|35.65|   35.65|    31.4| 72.5011|      3.42|             4.25|\n",
      "|     AU|2075074| -19.91667|138.116669|         Camooweal|     0|11/19/2017 3:00|      27|  992.62| 37.2|    37.2|    37.2| 58.5011|      2.07|              0.0|\n",
      "|     AU|7839410|  -15.9292|130.761658|     Victoria-Daly|     0|11/19/2017 3:00|      51|  1006.4|35.77|   35.77|   35.77| 346.001|      2.57|              0.0|\n",
      "+-------+-------+----------+----------+------------------+------+---------------+--------+--------+-----+--------+--------+--------+----------+-----------------+\n",
      "\n"
     ]
    }
   ],
   "source": [
    "# use sql q\n",
    "cityDf.filter(\"temp_max > 35\").show()"
   ]
  },
  {
   "cell_type": "code",
   "execution_count": 68,
   "metadata": {},
   "outputs": [
    {
     "name": "stdout",
     "output_type": "stream",
     "text": [
      "+-------+------------------+--------+\n",
      "|country|              name|temp_max|\n",
      "+-------+------------------+--------+\n",
      "|     AU|Northern Territory|   45.88|\n",
      "|     AU|        Borroloola|   37.62|\n",
      "|     AU|         Roebourne|   36.27|\n",
      "|     AU|         Mataranka|   36.45|\n",
      "|     AU|          Biboohra|   35.65|\n",
      "|     AU|         Camooweal|    37.2|\n",
      "|     AU|     Victoria-Daly|   35.77|\n",
      "+-------+------------------+--------+\n",
      "\n"
     ]
    }
   ],
   "source": [
    "cityDf.filter(\"temp_max > 35\").select(['country', 'name', 'temp_min', 'temp_max']).show()"
   ]
  },
  {
   "cell_type": "code",
   "execution_count": 72,
   "metadata": {},
   "outputs": [
    {
     "name": "stdout",
     "output_type": "stream",
     "text": [
      "+-------+-----------+--------+--------+\n",
      "|country|       name|temp_min|temp_max|\n",
      "+-------+-----------+--------+--------+\n",
      "|     GL|  Greenland|  -41.43|  -41.43|\n",
      "|     RU|   Khatassy|   -35.6|  -28.43|\n",
      "|     CA|Dawson City|  -35.38|  -33.36|\n",
      "+-------+-----------+--------+--------+\n",
      "\n"
     ]
    }
   ],
   "source": [
    "cityDf.filter(\"temp_min < -35\").select(['country', 'name', 'temp_min','temp_max']).show()"
   ]
  },
  {
   "cell_type": "code",
   "execution_count": 78,
   "metadata": {},
   "outputs": [
    {
     "name": "stdout",
     "output_type": "stream",
     "text": [
      "+-------+-----------+--------+--------+\n",
      "|country|       name|temp_min|temp_max|\n",
      "+-------+-----------+--------+--------+\n",
      "|     GL|  Greenland|  -41.43|  -41.43|\n",
      "|     RU|   Khatassy|   -35.6|  -28.43|\n",
      "|     CA|Dawson City|  -35.38|  -33.36|\n",
      "+-------+-----------+--------+--------+\n",
      "\n"
     ]
    }
   ],
   "source": [
    "cityDf.filter(\"temp_min < -35\").select(['country', 'name', 'temp_min','temp_max']).show()"
   ]
  },
  {
   "cell_type": "code",
   "execution_count": 76,
   "metadata": {},
   "outputs": [],
   "source": [
    "dfSelectVeryCold= cityDf.filter(\"temp_min < -35\").select(['country', 'name', 'temp_min','temp_max'])"
   ]
  },
  {
   "cell_type": "code",
   "execution_count": 77,
   "metadata": {},
   "outputs": [
    {
     "name": "stdout",
     "output_type": "stream",
     "text": [
      "+-------+-----------+--------+--------+\n",
      "|country|       name|temp_min|temp_max|\n",
      "+-------+-----------+--------+--------+\n",
      "|     GL|  Greenland|  -41.43|  -41.43|\n",
      "|     RU|   Khatassy|   -35.6|  -28.43|\n",
      "|     CA|Dawson City|  -35.38|  -33.36|\n",
      "+-------+-----------+--------+--------+\n",
      "\n"
     ]
    }
   ],
   "source": [
    "dfSelectVeryCold.show()"
   ]
  },
  {
   "cell_type": "markdown",
   "metadata": {},
   "source": [
    "### Using Python Comparison Operators"
   ]
  },
  {
   "cell_type": "code",
   "execution_count": 82,
   "metadata": {},
   "outputs": [
    {
     "name": "stdout",
     "output_type": "stream",
     "text": [
      "+-------+-------+-----+-----+------------------+------+---------------+--------+--------+-----+--------+--------+--------+----------+-----------------+\n",
      "|country|     id|  lat|  lng|              name|clouds|           date|humidity|pressure| temp|temp_max|temp_min|wind_deg|wind_speed|        temp_span|\n",
      "+-------+-------+-----+-----+------------------+------+---------------+--------+--------+-----+--------+--------+--------+----------+-----------------+\n",
      "|     AU|2064513|-20.0|134.0|Northern Territory|     0|11/19/2017 3:00|      25|  983.05|45.88|   45.88|   38.82| 338.501|      2.37|7.060000000000002|\n",
      "+-------+-------+-----+-----+------------------+------+---------------+--------+--------+-----+--------+--------+--------+----------+-----------------+\n",
      "\n"
     ]
    }
   ],
   "source": [
    "# use python type to filter\n",
    "cityDf.filter(cityDf[\"temp_max\"] > 45).show()"
   ]
  },
  {
   "cell_type": "code",
   "execution_count": 86,
   "metadata": {},
   "outputs": [
    {
     "name": "stdout",
     "output_type": "stream",
     "text": [
      "+-------+-------+---------+-----------+------------------+------+---------------+--------+--------+------+--------+--------+--------+----------+-----------------+\n",
      "|country|     id|      lat|        lng|              name|clouds|           date|humidity|pressure|  temp|temp_max|temp_min|wind_deg|wind_speed|        temp_span|\n",
      "+-------+-------+---------+-----------+------------------+------+---------------+--------+--------+------+--------+--------+--------+----------+-----------------+\n",
      "|     AU|2064513|    -20.0|      134.0|Northern Territory|     0|11/19/2017 3:00|      25|  983.05| 45.88|   45.88|   38.82| 338.501|      2.37|7.060000000000002|\n",
      "|     GL|3425505|     72.0|      -40.0|         Greenland|    20|11/19/2017 3:00|       0|  703.32|-41.43|  -41.43|  -41.43| 117.501|      6.27|              0.0|\n",
      "|     RU|2022564| 61.90361| 129.638336|          Khatassy|    48|11/19/2017 3:00|      83| 1014.34| -35.6|  -28.43|   -35.6| 44.5011|      1.57|7.170000000000002|\n",
      "|     CA|6943713|64.062523|-139.426285|       Dawson City|     8|11/19/2017 3:00|       0|  929.39|-35.38|  -33.36|  -35.38| 288.001|      1.07|2.020000000000003|\n",
      "+-------+-------+---------+-----------+------------------+------+---------------+--------+--------+------+--------+--------+--------+----------+-----------------+\n",
      "\n"
     ]
    }
   ],
   "source": [
    "# Show cities with very low and high temps \n",
    "cityDf.filter((cityDf[\"temp_max\"] > 45) | (cityDf[\"temp_min\"] < -35)).show()"
   ]
  },
  {
   "cell_type": "code",
   "execution_count": 92,
   "metadata": {},
   "outputs": [
    {
     "name": "stdout",
     "output_type": "stream",
     "text": [
      "+-------+-------+---------+---------+--------------------+------+---------------+--------+--------+-----+--------+--------+--------+----------+------------------+\n",
      "|country|     id|      lat|      lng|                name|clouds|           date|humidity|pressure| temp|temp_max|temp_min|wind_deg|wind_speed|         temp_span|\n",
      "+-------+-------+---------+---------+--------------------+------+---------------+--------+--------+-----+--------+--------+--------+----------+------------------+\n",
      "|     LY|2208655| 32.94701| 11.86647|              Zaltan|     8|11/19/2017 3:00|     100| 1031.12|13.77|   13.77|   13.77| 260.501|      4.52|               0.0|\n",
      "|     LY|2214433|31.868481|  10.9812|               Nalut|     0|11/19/2017 3:00|      82|  976.49| 4.02|    4.02|    4.02| 256.001|      1.07|               0.0|\n",
      "|     LY|2219960|27.049999|     14.4|            Al Jadid|    92|11/19/2017 3:00|      34|  978.19| 7.65|    7.65|    7.65| 57.5011|      2.22|               0.0|\n",
      "|     LY|2215636|     25.0|     17.0|               Libya|    56|11/19/2017 3:00|      39|  977.78| 8.17|    8.17|    8.17| 80.0011|      2.17|               0.0|\n",
      "|     LY|  81302|32.083611|23.976391|              Tobruk|     0|11/19/2017 3:00|      95| 1010.21| 11.3|    11.3|    11.3| 259.001|      3.72|               0.0|\n",
      "|     LY|2219944|     28.0| 17.41667| Sha�b?yat al Jufrah|    64|11/19/2017 3:00|      68|  987.03| 3.47|    3.47|    3.47| 201.501|      1.02|               0.0|\n",
      "|     LY|2214234|32.902222| 13.27083|Qab?lat Awl?d Dhiy?b|   100|11/19/2017 3:00|     100| 1030.23|15.54|   18.02|   15.54| 281.001|      5.92|2.4800000000000004|\n",
      "|     LY|2217351| 24.96472| 10.17278|                Ghat|    76|11/19/2017 3:00|      41|   937.9|10.05|   10.05|   10.05| 83.0011|      0.87|               0.0|\n",
      "|     LY|2214603| 25.91552| 13.91839|              Murzuq|    92|11/19/2017 3:00|      27|  963.11| 9.55|    9.55|    9.55| 91.0011|      2.87|               0.0|\n",
      "+-------+-------+---------+---------+--------------------+------+---------------+--------+--------+-----+--------+--------+--------+----------+------------------+\n",
      "\n"
     ]
    }
   ],
   "source": [
    "cityDf.filter(cityDf[\"country\"] == \"LY\").show()"
   ]
  },
  {
   "cell_type": "code",
   "execution_count": 105,
   "metadata": {},
   "outputs": [
    {
     "name": "stdout",
     "output_type": "stream",
     "text": [
      "+-------+--------------------+--------+\n",
      "|country|                name|temp_min|\n",
      "+-------+--------------------+--------+\n",
      "|     GL|           Greenland|  -41.43|\n",
      "|     RU|            Khatassy|   -35.6|\n",
      "|     CA|         Dawson City|  -35.38|\n",
      "|     US|              Paxson|  -34.18|\n",
      "|     RU|           Myaundzha|  -33.98|\n",
      "|     RU|              Sangar|  -31.38|\n",
      "|     US|   Chena Hot Springs|  -31.03|\n",
      "|     US|             Chisana|  -30.71|\n",
      "|     RU|             Ugakhyn|  -30.43|\n",
      "|     US|    Eureka Roadhouse|  -29.61|\n",
      "|     RU|                Amga|  -28.58|\n",
      "|     RU|Magadanskaya Oblast�|  -28.06|\n",
      "|     RU|   Khabarovskiy Kray|  -27.71|\n",
      "|     AF|             Khandud|  -26.83|\n",
      "|     RU|              Tommot|  -26.81|\n",
      "|     US|               Ester|  -26.44|\n",
      "|     KG|Issyk-Kul�skaya O...|  -26.23|\n",
      "|     US|      Delta Junction|  -25.78|\n",
      "|     RU|            Ekimchan|  -25.63|\n",
      "|     RU|           Sinegorye|  -25.38|\n",
      "+-------+--------------------+--------+\n",
      "only showing top 20 rows\n",
      "\n"
     ]
    }
   ],
   "source": [
    "cityDf.orderBy(cityDf['temp_min'].asc()).select(\"country\",\"name\", \"temp_min\").show()"
   ]
  },
  {
   "cell_type": "code",
   "execution_count": 106,
   "metadata": {},
   "outputs": [
    {
     "name": "stdout",
     "output_type": "stream",
     "text": [
      "+-------+--------------------+--------+\n",
      "|country|                name|temp_min|\n",
      "+-------+--------------------+--------+\n",
      "|     AU|  Northern Territory|   38.82|\n",
      "|     AU|          Borroloola|   37.62|\n",
      "|     AU|           Camooweal|    37.2|\n",
      "|     AU|           Mataranka|   36.45|\n",
      "|     AU|           Roebourne|   36.27|\n",
      "|     AU|       Victoria-Daly|   35.77|\n",
      "|     AU|            Biboohra|    31.4|\n",
      "|     ID|Republic of Indon...|   30.95|\n",
      "|     AU|          Barcaldine|   34.72|\n",
      "|     ID|Provinsi Papua Barat|    33.2|\n",
      "|     ID|           Sidenreng|   33.17|\n",
      "|     ID|            Parengan|    30.2|\n",
      "|     PG| East Sepik Province|   32.87|\n",
      "|     AU|             Adavale|   32.37|\n",
      "|     ID|         Kualakapuas|   31.72|\n",
      "|     AU|         Coober Pedy|   32.22|\n",
      "|     AU|State of Western ...|   32.12|\n",
      "|     ID|        Sangkulirang|   32.02|\n",
      "|     MY|Kampong Pangkal K...|   29.62|\n",
      "|     AU|            Dimbulah|   31.47|\n",
      "+-------+--------------------+--------+\n",
      "only showing top 20 rows\n",
      "\n"
     ]
    }
   ],
   "source": [
    "cityDf.orderBy(cityDf['temp_max'].desc()).select(\"country\",\"name\", \"temp_min\").show()"
   ]
  },
  {
   "cell_type": "markdown",
   "metadata": {},
   "source": [
    "### Stats "
   ]
  },
  {
   "cell_type": "code",
   "execution_count": 133,
   "metadata": {},
   "outputs": [
    {
     "data": {
      "text/plain": [
       "DataFrame[summary: string, country: string, id: string, lat: string, lng: string, name: string, clouds: string, date: string, humidity: string, pressure: string, temp: string, temp_max: string, temp_min: string, wind_deg: string, wind_speed: string, temp_span: string]"
      ]
     },
     "execution_count": 133,
     "metadata": {},
     "output_type": "execute_result"
    }
   ],
   "source": [
    "cityDf.describe()"
   ]
  },
  {
   "cell_type": "code",
   "execution_count": 108,
   "metadata": {},
   "outputs": [
    {
     "name": "stdout",
     "output_type": "stream",
     "text": [
      "+-----------------+\n",
      "|    avg(temp_min)|\n",
      "+-----------------+\n",
      "|8.598646215405118|\n",
      "+-----------------+\n",
      "\n"
     ]
    }
   ],
   "source": [
    "# What is the mean temp_max of this dataset?\n",
    "from pyspark.sql.functions import mean\n",
    "cityDf.select(mean(\"temp_min\")).show()"
   ]
  },
  {
   "cell_type": "code",
   "execution_count": 112,
   "metadata": {},
   "outputs": [
    {
     "name": "stdout",
     "output_type": "stream",
     "text": [
      "+-------------+\n",
      "|max(temp_min)|\n",
      "+-------------+\n",
      "|        38.82|\n",
      "+-------------+\n",
      "\n"
     ]
    }
   ],
   "source": [
    "# What is the mean temp_max of this dataset?\n",
    "import pyspark.sql.functions as funcs \n",
    "cityDf.select(funcs.max(\"temp_min\")).show()"
   ]
  },
  {
   "cell_type": "code",
   "execution_count": 113,
   "metadata": {},
   "outputs": [
    {
     "name": "stdout",
     "output_type": "stream",
     "text": [
      "+-------------+\n",
      "|min(temp_min)|\n",
      "+-------------+\n",
      "|       -41.43|\n",
      "+-------------+\n",
      "\n"
     ]
    }
   ],
   "source": [
    "cityDf.select(funcs.min(\"temp_min\")).show()"
   ]
  },
  {
   "cell_type": "code",
   "execution_count": 114,
   "metadata": {},
   "outputs": [
    {
     "name": "stdout",
     "output_type": "stream",
     "text": [
      "+-------------+\n",
      "|max(temp_min)|\n",
      "+-------------+\n",
      "|        38.82|\n",
      "+-------------+\n",
      "\n"
     ]
    }
   ],
   "source": [
    "cityDf.select(funcs.max(\"temp_min\")).show()"
   ]
  },
  {
   "cell_type": "code",
   "execution_count": 115,
   "metadata": {},
   "outputs": [
    {
     "name": "stdout",
     "output_type": "stream",
     "text": [
      "+-----------------+\n",
      "|    avg(temp_min)|\n",
      "+-----------------+\n",
      "|8.598646215405118|\n",
      "+-----------------+\n",
      "\n"
     ]
    }
   ],
   "source": [
    "cityDf.select(funcs.mean(\"temp_min\")).show()"
   ]
  },
  {
   "cell_type": "code",
   "execution_count": 121,
   "metadata": {},
   "outputs": [
    {
     "name": "stdout",
     "output_type": "stream",
     "text": [
      "+-----------------+-------------+-------------+\n",
      "|    avg(temp_min)|min(temp_min)|max(temp_min)|\n",
      "+-----------------+-------------+-------------+\n",
      "|8.598646215405118|       -41.43|        38.82|\n",
      "+-----------------+-------------+-------------+\n",
      "\n"
     ]
    }
   ],
   "source": [
    "cityDf.select(funcs.mean(\"temp_min\"), funcs.min(\"temp_min\"), funcs.max(\"temp_min\")).show()"
   ]
  },
  {
   "cell_type": "code",
   "execution_count": 123,
   "metadata": {},
   "outputs": [
    {
     "name": "stdout",
     "output_type": "stream",
     "text": [
      "+-------+------------------+\n",
      "|summary|          temp_min|\n",
      "+-------+------------------+\n",
      "|  count|              2999|\n",
      "|   mean| 8.598646215405118|\n",
      "| stddev|13.187160595477907|\n",
      "|    min|            -41.43|\n",
      "|    max|             38.82|\n",
      "+-------+------------------+\n",
      "\n"
     ]
    }
   ],
   "source": [
    "cityDf.select('temp_min').describe().show()"
   ]
  },
  {
   "cell_type": "code",
   "execution_count": 128,
   "metadata": {},
   "outputs": [
    {
     "name": "stdout",
     "output_type": "stream",
     "text": [
      "+-------+------------------+\n",
      "|country|              name|\n",
      "+-------+------------------+\n",
      "|     AU|Northern Territory|\n",
      "|     AU|        Borroloola|\n",
      "|     AU|         Roebourne|\n",
      "|     AU|         Mataranka|\n",
      "|     AU|          Biboohra|\n",
      "|     AU|         Camooweal|\n",
      "|     AU|     Victoria-Daly|\n",
      "+-------+------------------+\n",
      "\n"
     ]
    }
   ],
   "source": [
    "# Show all city with temp more than 35\n",
    "cityDf.filter('temp_max > 35').select('country',\"name\").show()"
   ]
  },
  {
   "cell_type": "code",
   "execution_count": 130,
   "metadata": {},
   "outputs": [
    {
     "data": {
      "text/plain": [
       "[Row(country='AU', name='Northern Territory'),\n",
       " Row(country='AU', name='Borroloola'),\n",
       " Row(country='AU', name='Roebourne')]"
      ]
     },
     "execution_count": 130,
     "metadata": {},
     "output_type": "execute_result"
    }
   ],
   "source": [
    "# Show all city with temp more than 35\n",
    "cityDf.filter('temp_max > 35').select('country',\"name\").head(3)"
   ]
  },
  {
   "cell_type": "code",
   "execution_count": 153,
   "metadata": {
    "collapsed": true
   },
   "outputs": [],
   "source": [
    "# what is the average for each country \n",
    "\n",
    "dfSel = cityDf.groupBy([\"country\", \"name\"]).avg()"
   ]
  },
  {
   "cell_type": "code",
   "execution_count": 156,
   "metadata": {},
   "outputs": [
    {
     "name": "stdout",
     "output_type": "stream",
     "text": [
      "+--------------------+-------------+-------------+\n",
      "|                name|avg(temp_max)|avg(temp_min)|\n",
      "+--------------------+-------------+-------------+\n",
      "|           Greenland|       -41.43|       -41.43|\n",
      "|              Paxson|       -34.18|       -34.18|\n",
      "|           Myaundzha|       -33.98|       -33.98|\n",
      "|         Dawson City|       -33.36|       -35.38|\n",
      "|              Sangar|       -31.38|       -31.38|\n",
      "|             Chisana|        -30.7|       -30.71|\n",
      "|             Ugakhyn|       -30.43|       -30.43|\n",
      "|   Chena Hot Springs|       -29.77|       -31.03|\n",
      "|                Amga|       -28.58|       -28.58|\n",
      "|            Khatassy|       -28.43|        -35.6|\n",
      "|Magadanskaya Oblast�|       -28.05|       -28.06|\n",
      "|   Khabarovskiy Kray|        -27.7|       -27.71|\n",
      "|             Khandud|       -26.83|       -26.83|\n",
      "|              Tommot|        -26.8|       -26.81|\n",
      "|               Ester|       -26.31|       -26.44|\n",
      "|Issyk-Kul�skaya O...|       -26.23|       -26.23|\n",
      "|            Ekimchan|       -25.63|       -25.63|\n",
      "|           Sinegorye|       -25.38|       -25.38|\n",
      "|           Kysyl-Syr|       -24.95|       -24.96|\n",
      "|      Delta Junction|       -24.91|       -25.78|\n",
      "+--------------------+-------------+-------------+\n",
      "only showing top 20 rows\n",
      "\n"
     ]
    }
   ],
   "source": [
    "dfSel.select(\"name\", \"avg(temp_max)\", \"avg(temp_min)\").orderBy('avg(temp_max)'). show()"
   ]
  },
  {
   "cell_type": "markdown",
   "metadata": {},
   "source": [
    "### Part 2 "
   ]
  },
  {
   "cell_type": "code",
   "execution_count": 157,
   "metadata": {
    "collapsed": true
   },
   "outputs": [],
   "source": [
    "# Read in data and store in dataframe\n",
    "dfRain = spark.read.csv(\"rainfall.csv\", header=True, inferSchema=True)"
   ]
  },
  {
   "cell_type": "code",
   "execution_count": 158,
   "metadata": {},
   "outputs": [
    {
     "name": "stdout",
     "output_type": "stream",
     "text": [
      "+-----------+-------------------+----+----+\n",
      "|    station|               date|prcp|tobs|\n",
      "+-----------+-------------------+----+----+\n",
      "|USC00519397|2010-01-01 00:00:00|0.08|  65|\n",
      "|USC00519397|2010-01-02 00:00:00| 0.0|  63|\n",
      "|USC00519397|2010-01-03 00:00:00| 0.0|  74|\n",
      "|USC00519397|2010-01-04 00:00:00| 0.0|  76|\n",
      "|USC00519397|2010-01-06 00:00:00|null|  73|\n",
      "|USC00519397|2010-01-07 00:00:00|0.06|  70|\n",
      "|USC00519397|2010-01-08 00:00:00| 0.0|  64|\n",
      "|USC00519397|2010-01-09 00:00:00| 0.0|  68|\n",
      "|USC00519397|2010-01-10 00:00:00| 0.0|  73|\n",
      "|USC00519397|2010-01-11 00:00:00|0.01|  64|\n",
      "|USC00519397|2010-01-12 00:00:00| 0.0|  61|\n",
      "|USC00519397|2010-01-14 00:00:00| 0.0|  66|\n",
      "|USC00519397|2010-01-15 00:00:00| 0.0|  65|\n",
      "|USC00519397|2010-01-16 00:00:00| 0.0|  68|\n",
      "|USC00519397|2010-01-17 00:00:00| 0.0|  64|\n",
      "|USC00519397|2010-01-18 00:00:00| 0.0|  72|\n",
      "|USC00519397|2010-01-19 00:00:00| 0.0|  66|\n",
      "|USC00519397|2010-01-20 00:00:00| 0.0|  66|\n",
      "|USC00519397|2010-01-21 00:00:00| 0.0|  69|\n",
      "|USC00519397|2010-01-22 00:00:00| 0.0|  67|\n",
      "+-----------+-------------------+----+----+\n",
      "only showing top 20 rows\n",
      "\n"
     ]
    }
   ],
   "source": [
    "dfRain.show()"
   ]
  },
  {
   "cell_type": "code",
   "execution_count": 173,
   "metadata": {},
   "outputs": [],
   "source": [
    "# Import date time functions\n",
    "from pyspark.sql.functions import year, month"
   ]
  },
  {
   "cell_type": "code",
   "execution_count": 163,
   "metadata": {},
   "outputs": [
    {
     "name": "stdout",
     "output_type": "stream",
     "text": [
      "+----------+\n",
      "|year(date)|\n",
      "+----------+\n",
      "|      2010|\n",
      "|      2010|\n",
      "|      2010|\n",
      "|      2010|\n",
      "|      2010|\n",
      "|      2010|\n",
      "|      2010|\n",
      "|      2010|\n",
      "|      2010|\n",
      "|      2010|\n",
      "|      2010|\n",
      "|      2010|\n",
      "|      2010|\n",
      "|      2010|\n",
      "|      2010|\n",
      "|      2010|\n",
      "|      2010|\n",
      "|      2010|\n",
      "|      2010|\n",
      "|      2010|\n",
      "+----------+\n",
      "only showing top 20 rows\n",
      "\n"
     ]
    }
   ],
   "source": [
    "dfRain.select(year(dfRain['date'])).show()"
   ]
  },
  {
   "cell_type": "code",
   "execution_count": 174,
   "metadata": {},
   "outputs": [],
   "source": [
    "dfRain = dfRain.withColumn(\"year\", year(dfRain['date']))\n",
    "dfRain = dfRain.withColumn(\"month\", month(dfRain['date']))"
   ]
  },
  {
   "cell_type": "code",
   "execution_count": 175,
   "metadata": {},
   "outputs": [
    {
     "name": "stdout",
     "output_type": "stream",
     "text": [
      "+-----------+-------------------+----+----+----+-----+\n",
      "|    station|               date|prcp|tobs|year|month|\n",
      "+-----------+-------------------+----+----+----+-----+\n",
      "|USC00519397|2010-01-01 00:00:00|0.08|  65|2010|    1|\n",
      "|USC00519397|2010-01-02 00:00:00| 0.0|  63|2010|    1|\n",
      "|USC00519397|2010-01-03 00:00:00| 0.0|  74|2010|    1|\n",
      "|USC00519397|2010-01-04 00:00:00| 0.0|  76|2010|    1|\n",
      "|USC00519397|2010-01-06 00:00:00|null|  73|2010|    1|\n",
      "|USC00519397|2010-01-07 00:00:00|0.06|  70|2010|    1|\n",
      "|USC00519397|2010-01-08 00:00:00| 0.0|  64|2010|    1|\n",
      "|USC00519397|2010-01-09 00:00:00| 0.0|  68|2010|    1|\n",
      "|USC00519397|2010-01-10 00:00:00| 0.0|  73|2010|    1|\n",
      "|USC00519397|2010-01-11 00:00:00|0.01|  64|2010|    1|\n",
      "|USC00519397|2010-01-12 00:00:00| 0.0|  61|2010|    1|\n",
      "|USC00519397|2010-01-14 00:00:00| 0.0|  66|2010|    1|\n",
      "|USC00519397|2010-01-15 00:00:00| 0.0|  65|2010|    1|\n",
      "|USC00519397|2010-01-16 00:00:00| 0.0|  68|2010|    1|\n",
      "|USC00519397|2010-01-17 00:00:00| 0.0|  64|2010|    1|\n",
      "|USC00519397|2010-01-18 00:00:00| 0.0|  72|2010|    1|\n",
      "|USC00519397|2010-01-19 00:00:00| 0.0|  66|2010|    1|\n",
      "|USC00519397|2010-01-20 00:00:00| 0.0|  66|2010|    1|\n",
      "|USC00519397|2010-01-21 00:00:00| 0.0|  69|2010|    1|\n",
      "|USC00519397|2010-01-22 00:00:00| 0.0|  67|2010|    1|\n",
      "+-----------+-------------------+----+----+----+-----+\n",
      "only showing top 20 rows\n",
      "\n"
     ]
    }
   ],
   "source": [
    "dfRain.show()"
   ]
  },
  {
   "cell_type": "code",
   "execution_count": 168,
   "metadata": {
    "collapsed": true
   },
   "outputs": [],
   "source": [
    "avgRainFall = dfRain.groupBy(\"year\").avg()"
   ]
  },
  {
   "cell_type": "code",
   "execution_count": 171,
   "metadata": {},
   "outputs": [
    {
     "name": "stdout",
     "output_type": "stream",
     "text": [
      "+----+-------------------+\n",
      "|year|          avg(prcp)|\n",
      "+----+-------------------+\n",
      "|2015|0.19919999999999985|\n",
      "|2013|0.15554567502020986|\n",
      "|2014|0.17855953372189803|\n",
      "|2012| 0.1163805668016194|\n",
      "|2016|0.17984533591106822|\n",
      "|2010|0.13852293920179035|\n",
      "|2011| 0.1637348927875241|\n",
      "|2017|0.16592738752959774|\n",
      "+----+-------------------+\n",
      "\n"
     ]
    }
   ],
   "source": [
    "avgRainFall.select(\"year\",  'avg(prcp)').show()"
   ]
  },
  {
   "cell_type": "code",
   "execution_count": 177,
   "metadata": {
    "collapsed": true
   },
   "outputs": [],
   "source": [
    "maxRainFall_month = dfRain.groupBy(\"month\").max()"
   ]
  },
  {
   "cell_type": "code",
   "execution_count": 182,
   "metadata": {},
   "outputs": [
    {
     "name": "stdout",
     "output_type": "stream",
     "text": [
      "+-----+---------+\n",
      "|month|max(prcp)|\n",
      "+-----+---------+\n",
      "|    1|     8.81|\n",
      "|    2|     5.04|\n",
      "|    3|     6.38|\n",
      "|    4|     6.25|\n",
      "|    5|     4.07|\n",
      "|    6|     4.43|\n",
      "|    7|    11.53|\n",
      "|    8|     4.81|\n",
      "|    9|     6.83|\n",
      "|   10|     4.47|\n",
      "|   11|     8.06|\n",
      "|   12|     6.42|\n",
      "+-----+---------+\n",
      "\n"
     ]
    }
   ],
   "source": [
    "maxRainFall_month.select(\"month\", \"max(prcp)\").orderBy(\"month\").show()"
   ]
  },
  {
   "cell_type": "code",
   "execution_count": 183,
   "metadata": {
    "collapsed": true
   },
   "outputs": [],
   "source": [
    "import pandas as pd"
   ]
  },
  {
   "cell_type": "code",
   "execution_count": 185,
   "metadata": {},
   "outputs": [],
   "source": [
    "df = maxRainFall_month.select(\"month\", \"max(prcp)\").orderBy(\"month\").toPandas()"
   ]
  },
  {
   "cell_type": "code",
   "execution_count": 188,
   "metadata": {},
   "outputs": [
    {
     "data": {
      "text/plain": [
       "<matplotlib.axes._subplots.AxesSubplot at 0x19489c657f0>"
      ]
     },
     "execution_count": 188,
     "metadata": {},
     "output_type": "execute_result"
    },
    {
     "data": {
      "image/png": "[encoded data removed]",
      "text/plain": [
       "<matplotlib.figure.Figure at 0x19489c6c6a0>"
      ]
     },
     "metadata": {},
     "output_type": "display_data"
    }
   ],
   "source": [
    "%matplotlib inline\n",
    "df.plot(\"month\", \"max(prcp)\", kind='line')"
   ]
  },
  {
   "cell_type": "code",
   "execution_count": 189,
   "metadata": {},
   "outputs": [
    {
     "name": "stdout",
     "output_type": "stream",
     "text": [
      "root\n",
      " |-- month: integer (nullable = true)\n",
      " |-- max(prcp): double (nullable = true)\n",
      " |-- max(tobs): integer (nullable = true)\n",
      " |-- max(year): integer (nullable = true)\n",
      " |-- max(month): integer (nullable = true)\n",
      "\n"
     ]
    }
   ],
   "source": [
    "maxRainFall_month.printSchema()"
   ]
  },
  {
   "cell_type": "code",
   "execution_count": 190,
   "metadata": {
    "collapsed": true
   },
   "outputs": [],
   "source": [
    "month_rCount = dfRain.groupBy(\"month\").count()"
   ]
  },
  {
   "cell_type": "code",
   "execution_count": 193,
   "metadata": {},
   "outputs": [
    {
     "name": "stdout",
     "output_type": "stream",
     "text": [
      "+-----+-----+\n",
      "|month|count|\n",
      "+-----+-----+\n",
      "|    1| 1727|\n",
      "|    2| 1610|\n",
      "|    3| 1693|\n",
      "|    4| 1713|\n",
      "|    5| 1733|\n",
      "|    6| 1700|\n",
      "|    7| 1711|\n",
      "|    8| 1622|\n",
      "|    9| 1480|\n",
      "|   10| 1556|\n",
      "|   11| 1488|\n",
      "|   12| 1517|\n",
      "+-----+-----+\n",
      "\n"
     ]
    }
   ],
   "source": [
    "month_rCount.orderBy(\"month\").show()"
   ]
  },
  {
   "cell_type": "code",
   "execution_count": 195,
   "metadata": {},
   "outputs": [
    {
     "data": {
      "text/plain": [
       "<matplotlib.axes._subplots.AxesSubplot at 0x19489ad0f28>"
      ]
     },
     "execution_count": 195,
     "metadata": {},
     "output_type": "execute_result"
    },
    {
     "data": {
      "image/png": "[encoded data removed]",
      "text/plain": [
       "<matplotlib.figure.Figure at 0x19489c98518>"
      ]
     },
     "metadata": {},
     "output_type": "display_data"
    }
   ],
   "source": [
    "month_rCount.orderBy(\"month\").toPandas().plot(\"month\", \"count\", kind='bar')"
   ]
  },
  {
   "cell_type": "code",
   "execution_count": null,
   "metadata": {
    "collapsed": true
   },
   "outputs": [],
   "source": []
  }
 ],
 "metadata": {
  "kernelspec": {
   "display_name": "Python 3",
   "language": "python",
   "name": "python3"
  },
  "language_info": {
   "codemirror_mode": {
    "name": "ipython",
    "version": 3
   },
   "file_extension": ".py",
   "mimetype": "text/x-python",
   "name": "python",
   "nbconvert_exporter": "python",
   "pygments_lexer": "ipython3",
   "version": "3.6.1"
  }
 },
 "nbformat": 4,
 "nbformat_minor": 2
}
